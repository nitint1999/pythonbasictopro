{
 "cells": [
  {
   "cell_type": "markdown",
   "metadata": {},
   "source": [
    "# IF elif and else"
   ]
  },
  {
   "cell_type": "code",
   "execution_count": 1,
   "metadata": {},
   "outputs": [
    {
     "name": "stdout",
     "output_type": "stream",
     "text": [
      "Attend clg\n"
     ]
    }
   ],
   "source": [
    "cor = False\n",
    "if cor ==False:\n",
    "    print(\"Attend clg\")\n",
    "else:\n",
    "    print(\"No clg\")"
   ]
  },
  {
   "cell_type": "code",
   "execution_count": 2,
   "metadata": {},
   "outputs": [
    {
     "name": "stdout",
     "output_type": "stream",
     "text": [
      "I will code\n"
     ]
    }
   ],
   "source": [
    "Iamengg = \"Yes\"\n",
    "\n",
    "if Iamengg ==\"Yes\":\n",
    "    print(\"I will code\")\n",
    "elif Iamengg ==\"mostly\":\n",
    "    print(\"I will ask help\")\n",
    "else:\n",
    "    print(\"I will get a copy\")"
   ]
  },
  {
   "cell_type": "code",
   "execution_count": 3,
   "metadata": {},
   "outputs": [],
   "source": [
    "#input"
   ]
  },
  {
   "cell_type": "code",
   "execution_count": 4,
   "metadata": {},
   "outputs": [
    {
     "name": "stdout",
     "output_type": "stream",
     "text": [
      "Hi input here Hello\n"
     ]
    }
   ],
   "source": [
    "ouript=input(\"Hi input here \")"
   ]
  },
  {
   "cell_type": "code",
   "execution_count": 5,
   "metadata": {},
   "outputs": [
    {
     "name": "stdout",
     "output_type": "stream",
     "text": [
      "<class 'str'>\n",
      "Input entered is Hello\n"
     ]
    }
   ],
   "source": [
    "print(type(ouript))\n",
    "print(\"Input entered is\",ouript)"
   ]
  },
  {
   "cell_type": "code",
   "execution_count": 6,
   "metadata": {},
   "outputs": [
    {
     "name": "stdout",
     "output_type": "stream",
     "text": [
      "enter no=78\n",
      "78\n",
      "<class 'int'>\n"
     ]
    }
   ],
   "source": [
    "anynum=int(input(\"enter no=\"))\n",
    "print(anynum)\n",
    "print(type(anynum))"
   ]
  },
  {
   "cell_type": "code",
   "execution_count": 7,
   "metadata": {},
   "outputs": [],
   "source": [
    "#Loops"
   ]
  },
  {
   "cell_type": "markdown",
   "metadata": {},
   "source": [
    "# For loops"
   ]
  },
  {
   "cell_type": "code",
   "execution_count": 8,
   "metadata": {},
   "outputs": [],
   "source": [
    "#Work hard until u reach the place where u stand"
   ]
  },
  {
   "cell_type": "code",
   "execution_count": 9,
   "metadata": {},
   "outputs": [
    {
     "name": "stdout",
     "output_type": "stream",
     "text": [
      "Nitin is running at =  1\n",
      "Nitin is running at =  2\n",
      "Nitin is running at =  3\n",
      "Nitin is running at =  4\n",
      "Nitin is running at =  5\n",
      "Nitin is running at =  6\n",
      "Nitin is running at =  7\n",
      "Nitin is running at =  8\n",
      "Nitin is running at =  9\n",
      "Nitin is running at =  10\n",
      "Nitin is running at =  11\n",
      "Nitin is running at =  12\n",
      "Nitin is running at =  13\n",
      "Nitin is running at =  14\n",
      "Nitin is running at =  15\n",
      "Nitin is running at =  16\n",
      "Nitin is running at =  17\n",
      "Nitin is running at =  18\n",
      "Nitin is running at =  19\n",
      "Nitin is running at =  20\n",
      "Nitin is running at =  21\n",
      "Nitin is running at =  22\n",
      "Nitin is running at =  23\n",
      "Nitin is running at =  24\n",
      "Nitin is running at =  25\n",
      "Nitin is running at =  26\n",
      "Nitin is running at =  27\n",
      "Nitin is running at =  28\n",
      "Nitin is running at =  29\n",
      "Nitin is running at =  30\n",
      "Nitin is running at =  31\n",
      "Nitin is running at =  32\n",
      "Nitin is running at =  33\n",
      "Nitin is running at =  34\n",
      "Nitin is running at =  35\n",
      "Nitin is running at =  36\n",
      "Nitin is running at =  37\n",
      "Nitin is running at =  38\n",
      "Nitin is running at =  39\n",
      "Nitin is running at =  40\n",
      "Nitin is running at =  41\n",
      "Nitin is running at =  42\n",
      "Nitin is running at =  43\n",
      "Nitin is running at =  44\n",
      "Nitin is running at =  45\n",
      "Nitin is running at =  46\n",
      "Nitin is running at =  47\n",
      "Nitin is running at =  48\n",
      "Nitin is running at =  49\n",
      "Nitin is running at =  50\n",
      "Nitin is running at =  51\n",
      "Nitin is running at =  52\n",
      "Nitin is running at =  53\n",
      "Nitin is running at =  54\n",
      "Nitin is running at =  55\n",
      "Nitin is running at =  56\n",
      "Nitin is running at =  57\n",
      "Nitin is running at =  58\n",
      "Nitin is running at =  59\n",
      "Nitin is running at =  60\n",
      "Nitin is running at =  61\n",
      "Nitin is running at =  62\n",
      "Nitin is running at =  63\n",
      "Nitin is running at =  64\n",
      "Nitin is running at =  65\n",
      "Nitin is running at =  66\n",
      "Nitin is running at =  67\n",
      "Nitin is running at =  68\n",
      "Nitin is running at =  69\n",
      "Nitin is running at =  70\n",
      "Nitin is running at =  71\n",
      "Nitin is running at =  72\n",
      "Nitin is running at =  73\n",
      "Nitin is running at =  74\n",
      "Nitin is running at =  75\n",
      "Nitin is running at =  76\n",
      "Nitin is running at =  77\n",
      "Nitin is running at =  78\n",
      "Nitin is running at =  79\n",
      "Nitin is running at =  80\n",
      "Nitin is running at =  81\n",
      "Nitin is running at =  82\n",
      "Nitin is running at =  83\n",
      "Nitin is running at =  84\n",
      "Nitin is running at =  85\n",
      "Nitin is running at =  86\n",
      "Nitin is running at =  87\n",
      "Nitin is running at =  88\n",
      "Nitin is running at =  89\n",
      "Nitin is running at =  90\n",
      "Nitin is running at =  91\n",
      "Nitin is running at =  92\n",
      "Nitin is running at =  93\n",
      "Nitin is running at =  94\n",
      "Nitin is running at =  95\n",
      "Nitin is running at =  96\n",
      "Nitin is running at =  97\n",
      "Nitin is running at =  98\n",
      "Nitin is running at =  99\n",
      "Nitin is running at =  100\n",
      "Nitin is running at =  101\n",
      "Nitin is running at =  102\n",
      "Nitin is running at =  103\n",
      "Nitin is running at =  104\n",
      "Nitin is running at =  105\n",
      "Nitin is running at =  106\n",
      "Nitin is running at =  107\n",
      "Nitin is running at =  108\n",
      "Nitin is running at =  109\n",
      "Nitin is running at =  110\n",
      "Nitin is running at =  111\n",
      "Nitin is running at =  112\n",
      "Nitin is running at =  113\n",
      "Nitin is running at =  114\n",
      "Nitin is running at =  115\n",
      "Nitin is running at =  116\n",
      "Nitin is running at =  117\n",
      "Nitin is running at =  118\n",
      "Nitin is running at =  119\n",
      "Nitin is running at =  120\n",
      "Nitin is running at =  121\n",
      "Nitin is running at =  122\n",
      "Nitin is running at =  123\n",
      "Nitin is running at =  124\n",
      "Nitin is running at =  125\n",
      "Nitin is running at =  126\n",
      "Nitin is running at =  127\n",
      "Nitin is running at =  128\n",
      "Nitin is running at =  129\n",
      "Nitin is running at =  130\n",
      "Nitin is running at =  131\n",
      "Nitin is running at =  132\n",
      "Nitin is running at =  133\n",
      "Nitin is running at =  134\n",
      "Nitin is running at =  135\n",
      "Nitin is running at =  136\n",
      "Nitin is running at =  137\n",
      "Nitin is running at =  138\n",
      "Nitin is running at =  139\n",
      "Nitin is running at =  140\n",
      "Nitin is running at =  141\n",
      "Nitin is running at =  142\n",
      "Nitin is running at =  143\n",
      "Nitin is running at =  144\n",
      "Nitin is running at =  145\n",
      "Nitin is running at =  146\n",
      "Nitin is running at =  147\n",
      "Nitin is running at =  148\n",
      "Nitin is running at =  149\n",
      "Nitin is running at =  150\n",
      "Nitin is running at =  151\n",
      "Nitin is running at =  152\n",
      "Nitin is running at =  153\n",
      "Nitin is running at =  154\n",
      "Nitin is running at =  155\n",
      "Nitin is running at =  156\n",
      "Nitin is running at =  157\n",
      "Nitin is running at =  158\n",
      "Nitin is running at =  159\n",
      "Nitin is running at =  160\n",
      "Nitin is running at =  161\n",
      "Nitin is running at =  162\n",
      "Nitin is running at =  163\n",
      "Nitin is running at =  164\n",
      "Nitin is running at =  165\n",
      "Nitin is running at =  166\n",
      "Nitin is running at =  167\n",
      "Nitin is running at =  168\n",
      "Nitin is running at =  169\n",
      "Nitin is running at =  170\n",
      "Nitin is running at =  171\n",
      "Nitin is running at =  172\n",
      "Nitin is running at =  173\n",
      "Nitin is running at =  174\n",
      "Nitin is running at =  175\n",
      "Nitin is running at =  176\n",
      "Nitin is running at =  177\n",
      "Nitin is running at =  178\n",
      "Nitin is running at =  179\n",
      "Nitin is running at =  180\n",
      "Nitin is running at =  181\n",
      "Nitin is running at =  182\n",
      "Nitin is running at =  183\n",
      "Nitin is running at =  184\n",
      "Nitin is running at =  185\n",
      "Nitin is running at =  186\n",
      "Nitin is running at =  187\n",
      "Nitin is running at =  188\n",
      "Nitin is running at =  189\n",
      "Nitin is running at =  190\n",
      "Nitin is running at =  191\n",
      "Nitin is running at =  192\n",
      "Nitin is running at =  193\n",
      "Nitin is running at =  194\n",
      "Nitin is running at =  195\n",
      "Nitin is running at =  196\n",
      "Nitin is running at =  197\n",
      "Nitin is running at =  198\n",
      "Nitin is running at =  199\n",
      "Nitin is running at =  200\n",
      "---------*-----------\n",
      "Nitin has touched down the finish line-  200\n",
      "---------*-----------\n"
     ]
    }
   ],
   "source": [
    "for i in range(1,201):\n",
    "    print(\"Nitin is running at = \",i)\n",
    "else:\n",
    "    print(\"---------*-----------\")\n",
    "    print(\"Nitin has touched down the finish line- \",i)\n",
    "    print(\"---------*-----------\")"
   ]
  },
  {
   "cell_type": "code",
   "execution_count": 10,
   "metadata": {},
   "outputs": [],
   "source": [
    "lst=list(range(1,201))"
   ]
  },
  {
   "cell_type": "code",
   "execution_count": 11,
   "metadata": {},
   "outputs": [
    {
     "data": {
      "text/plain": [
       "[1,\n",
       " 2,\n",
       " 3,\n",
       " 4,\n",
       " 5,\n",
       " 6,\n",
       " 7,\n",
       " 8,\n",
       " 9,\n",
       " 10,\n",
       " 11,\n",
       " 12,\n",
       " 13,\n",
       " 14,\n",
       " 15,\n",
       " 16,\n",
       " 17,\n",
       " 18,\n",
       " 19,\n",
       " 20,\n",
       " 21,\n",
       " 22,\n",
       " 23,\n",
       " 24,\n",
       " 25,\n",
       " 26,\n",
       " 27,\n",
       " 28,\n",
       " 29,\n",
       " 30,\n",
       " 31,\n",
       " 32,\n",
       " 33,\n",
       " 34,\n",
       " 35,\n",
       " 36,\n",
       " 37,\n",
       " 38,\n",
       " 39,\n",
       " 40,\n",
       " 41,\n",
       " 42,\n",
       " 43,\n",
       " 44,\n",
       " 45,\n",
       " 46,\n",
       " 47,\n",
       " 48,\n",
       " 49,\n",
       " 50,\n",
       " 51,\n",
       " 52,\n",
       " 53,\n",
       " 54,\n",
       " 55,\n",
       " 56,\n",
       " 57,\n",
       " 58,\n",
       " 59,\n",
       " 60,\n",
       " 61,\n",
       " 62,\n",
       " 63,\n",
       " 64,\n",
       " 65,\n",
       " 66,\n",
       " 67,\n",
       " 68,\n",
       " 69,\n",
       " 70,\n",
       " 71,\n",
       " 72,\n",
       " 73,\n",
       " 74,\n",
       " 75,\n",
       " 76,\n",
       " 77,\n",
       " 78,\n",
       " 79,\n",
       " 80,\n",
       " 81,\n",
       " 82,\n",
       " 83,\n",
       " 84,\n",
       " 85,\n",
       " 86,\n",
       " 87,\n",
       " 88,\n",
       " 89,\n",
       " 90,\n",
       " 91,\n",
       " 92,\n",
       " 93,\n",
       " 94,\n",
       " 95,\n",
       " 96,\n",
       " 97,\n",
       " 98,\n",
       " 99,\n",
       " 100,\n",
       " 101,\n",
       " 102,\n",
       " 103,\n",
       " 104,\n",
       " 105,\n",
       " 106,\n",
       " 107,\n",
       " 108,\n",
       " 109,\n",
       " 110,\n",
       " 111,\n",
       " 112,\n",
       " 113,\n",
       " 114,\n",
       " 115,\n",
       " 116,\n",
       " 117,\n",
       " 118,\n",
       " 119,\n",
       " 120,\n",
       " 121,\n",
       " 122,\n",
       " 123,\n",
       " 124,\n",
       " 125,\n",
       " 126,\n",
       " 127,\n",
       " 128,\n",
       " 129,\n",
       " 130,\n",
       " 131,\n",
       " 132,\n",
       " 133,\n",
       " 134,\n",
       " 135,\n",
       " 136,\n",
       " 137,\n",
       " 138,\n",
       " 139,\n",
       " 140,\n",
       " 141,\n",
       " 142,\n",
       " 143,\n",
       " 144,\n",
       " 145,\n",
       " 146,\n",
       " 147,\n",
       " 148,\n",
       " 149,\n",
       " 150,\n",
       " 151,\n",
       " 152,\n",
       " 153,\n",
       " 154,\n",
       " 155,\n",
       " 156,\n",
       " 157,\n",
       " 158,\n",
       " 159,\n",
       " 160,\n",
       " 161,\n",
       " 162,\n",
       " 163,\n",
       " 164,\n",
       " 165,\n",
       " 166,\n",
       " 167,\n",
       " 168,\n",
       " 169,\n",
       " 170,\n",
       " 171,\n",
       " 172,\n",
       " 173,\n",
       " 174,\n",
       " 175,\n",
       " 176,\n",
       " 177,\n",
       " 178,\n",
       " 179,\n",
       " 180,\n",
       " 181,\n",
       " 182,\n",
       " 183,\n",
       " 184,\n",
       " 185,\n",
       " 186,\n",
       " 187,\n",
       " 188,\n",
       " 189,\n",
       " 190,\n",
       " 191,\n",
       " 192,\n",
       " 193,\n",
       " 194,\n",
       " 195,\n",
       " 196,\n",
       " 197,\n",
       " 198,\n",
       " 199,\n",
       " 200]"
      ]
     },
     "execution_count": 11,
     "metadata": {},
     "output_type": "execute_result"
    }
   ],
   "source": [
    "lst"
   ]
  },
  {
   "cell_type": "markdown",
   "metadata": {},
   "source": [
    "# While loop"
   ]
  },
  {
   "cell_type": "code",
   "execution_count": null,
   "metadata": {},
   "outputs": [
    {
     "name": "stdout",
     "output_type": "stream",
     "text": [
      "Go corona\n",
      "Enter the status of corona - y\n",
      "India won the battle!!\n",
      "Go corona\n",
      "Enter the status of corona - s\n",
      "India won the battle!!\n",
      "Go corona\n",
      "Enter the status of corona - yes\n",
      "India won the battle!!\n",
      "Go corona\n"
     ]
    }
   ],
   "source": [
    "coronais = True\n",
    "\n",
    "while coronais == True:\n",
    "    \n",
    "    print(\"Go corona\")\n",
    "    abc = input(\"Enter the status of corona - \")\n",
    "    \n",
    "    if abc[0].lower() == 'yes':\n",
    "        \n",
    "        coronais = False\n",
    "        \n",
    "    else:\n",
    "        \n",
    "        print(\"India won the battle!!\")  "
   ]
  },
  {
   "cell_type": "markdown",
   "metadata": {},
   "source": [
    "# Break pass and continue"
   ]
  },
  {
   "cell_type": "code",
   "execution_count": 2,
   "metadata": {},
   "outputs": [
    {
     "name": "stdout",
     "output_type": "stream",
     "text": [
      "number- 1\n",
      "number- 2\n",
      "number- 3\n"
     ]
    }
   ],
   "source": [
    "for i in range(1,10):\n",
    "    if(i==4):\n",
    "        break\n",
    "    print(\"number-\",i)"
   ]
  },
  {
   "cell_type": "code",
   "execution_count": 3,
   "metadata": {},
   "outputs": [
    {
     "name": "stdout",
     "output_type": "stream",
     "text": [
      "number- 1\n",
      "number- 2\n",
      "number- 3\n",
      "number- 5\n",
      "number- 6\n",
      "number- 7\n",
      "number- 8\n",
      "number- 9\n"
     ]
    }
   ],
   "source": [
    "for i in range(1,10):\n",
    "    if(i==4):\n",
    "        continue\n",
    "    print(\"number-\",i)"
   ]
  },
  {
   "cell_type": "code",
   "execution_count": 4,
   "metadata": {},
   "outputs": [],
   "source": [
    "for i in range(1,10):\n",
    "    pass\n",
    "    "
   ]
  },
  {
   "cell_type": "markdown",
   "metadata": {},
   "source": [
    "# File handling"
   ]
  },
  {
   "cell_type": "code",
   "execution_count": 8,
   "metadata": {},
   "outputs": [
    {
     "name": "stdout",
     "output_type": "stream",
     "text": [
      "<_io.TextIOWrapper name='nitfit.txt' mode='w' encoding='cp1252'>\n"
     ]
    }
   ],
   "source": [
    "file = open(\"nitfit.txt\",'w')\n",
    "print(file)"
   ]
  },
  {
   "cell_type": "code",
   "execution_count": 9,
   "metadata": {},
   "outputs": [],
   "source": [
    "file.write(\"Hey I am creating a new file\")\n",
    "file.close()"
   ]
  },
  {
   "cell_type": "code",
   "execution_count": 18,
   "metadata": {},
   "outputs": [
    {
     "name": "stdout",
     "output_type": "stream",
     "text": [
      "Hey I am creating a new file\n"
     ]
    }
   ],
   "source": [
    "#Read file\n",
    "file = open(\"nitfit.txt\",'r')\n",
    "text = file.read()\n",
    "print(text)\n",
    "file.close()"
   ]
  },
  {
   "cell_type": "code",
   "execution_count": 21,
   "metadata": {},
   "outputs": [
    {
     "name": "stdout",
     "output_type": "stream",
     "text": [
      "28\n"
     ]
    }
   ],
   "source": [
    "file=open(\"nitfit.txt\",'a')\n",
    "text = file.write(\"\\n We are appending the file \")\n",
    "file.close()"
   ]
  },
  {
   "cell_type": "code",
   "execution_count": 24,
   "metadata": {},
   "outputs": [
    {
     "name": "stdout",
     "output_type": "stream",
     "text": [
      "Hey I am creating a new file\n",
      " We are appending the file \n",
      " We are appending the file \n"
     ]
    }
   ],
   "source": [
    "file = open(\"nitfit.txt\",'r')\n",
    "text = file.read()\n",
    "print(text)\n",
    "file.close()"
   ]
  },
  {
   "cell_type": "code",
   "execution_count": 25,
   "metadata": {},
   "outputs": [
    {
     "name": "stdout",
     "output_type": "stream",
     "text": [
      "Hey I am creating a new file\n",
      " We are appending the file \n",
      " We are appending the file \n"
     ]
    }
   ],
   "source": [
    "with open(\"nitfit.txt\",'r') as f:\n",
    "    print(f.read())"
   ]
  },
  {
   "cell_type": "code",
   "execution_count": null,
   "metadata": {},
   "outputs": [],
   "source": []
  }
 ],
 "metadata": {
  "kernelspec": {
   "display_name": "Python 3",
   "language": "python",
   "name": "python3"
  },
  "language_info": {
   "codemirror_mode": {
    "name": "ipython",
    "version": 3
   },
   "file_extension": ".py",
   "mimetype": "text/x-python",
   "name": "python",
   "nbconvert_exporter": "python",
   "pygments_lexer": "ipython3",
   "version": "3.7.6"
  }
 },
 "nbformat": 4,
 "nbformat_minor": 4
}
