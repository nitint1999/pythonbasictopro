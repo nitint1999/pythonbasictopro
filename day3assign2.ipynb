{
 "cells": [
  {
   "cell_type": "markdown",
   "metadata": {},
   "source": [
    "# Question 2 Cricket Match question"
   ]
  },
  {
   "cell_type": "code",
   "execution_count": 26,
   "metadata": {
    "scrolled": true
   },
   "outputs": [
    {
     "name": "stdout",
     "output_type": "stream",
     "text": [
      "36\n",
      "Enter the the score you have guessed = 36\n",
      "You guesed it right :)\n"
     ]
    }
   ],
   "source": [
    "import random\n",
    "s=random.randrange(250)\n",
    "print(s)\n",
    "x=int(input(\"Enter the the score you have guessed = \"))\n",
    "a=abs(x-s)\n",
    "if x<=1 or x>=251:\n",
    "    print(\"Reduce your expectation for 20-20 match\")\n",
    "elif x==s:\n",
    "    print(\"You guesed it right :)\")\n",
    "elif a<=10:\n",
    "    print(\"Close by,you\")\n",
    "else:\n",
    "    print(\"You dont watch too much\")\n",
    "\n",
    "    "
   ]
  },
  {
   "cell_type": "code",
   "execution_count": null,
   "metadata": {},
   "outputs": [],
   "source": []
  }
 ],
 "metadata": {
  "kernelspec": {
   "display_name": "Python 3",
   "language": "python",
   "name": "python3"
  },
  "language_info": {
   "codemirror_mode": {
    "name": "ipython",
    "version": 3
   },
   "file_extension": ".py",
   "mimetype": "text/x-python",
   "name": "python",
   "nbconvert_exporter": "python",
   "pygments_lexer": "ipython3",
   "version": "3.7.6"
  }
 },
 "nbformat": 4,
 "nbformat_minor": 4
}
