{
 "cells": [
  {
   "cell_type": "markdown",
   "metadata": {},
   "source": [
    "# Marks obtained and their Grades"
   ]
  },
  {
   "cell_type": "code",
   "execution_count": 5,
   "metadata": {},
   "outputs": [
    {
     "name": "stdout",
     "output_type": "stream",
     "text": [
      "Enter your marks here = 40\n",
      "------------**-----------\n",
      "Fail :((\n",
      "------------**-----------\n"
     ]
    }
   ],
   "source": [
    "marks = input(\"Enter your marks here = \")\n",
    "if (marks >='90'):\n",
    "        \n",
    "    print(\"------------**-----------\")\n",
    "    print(\"Your grade is A\")\n",
    "    print(\"------------**-----------\")\n",
    "elif (marks >='80'):\n",
    "    print(\"------------**-----------\")\n",
    "    print(\"Your grade is B\")\n",
    "    print(\"------------**-----------\")\n",
    "elif (marks >='70'):\n",
    "    print(\"------------**-----------\")\n",
    "    print(\"Your grade is C\")\n",
    "    print(\"------------**-----------\")\n",
    "elif (marks >='60'):\n",
    "    print(\"------------**-----------\")\n",
    "    print(\"Your grade is D\")\n",
    "    print(\"------------**-----------\")\n",
    "elif (marks >='50'):\n",
    "    print(\"------------**-----------\")\n",
    "    print(\"Your grade is E\")\n",
    "    print(\"------------**-----------\")    \n",
    "else:\n",
    "    print(\"------------**-----------\")\n",
    "    print(\"Fail :((\")\n",
    "    print(\"------------**-----------\")"
   ]
  }
 ],
 "metadata": {
  "kernelspec": {
   "display_name": "Python 3",
   "language": "python",
   "name": "python3"
  },
  "language_info": {
   "codemirror_mode": {
    "name": "ipython",
    "version": 3
   },
   "file_extension": ".py",
   "mimetype": "text/x-python",
   "name": "python",
   "nbconvert_exporter": "python",
   "pygments_lexer": "ipython3",
   "version": "3.7.6"
  }
 },
 "nbformat": 4,
 "nbformat_minor": 4
}
